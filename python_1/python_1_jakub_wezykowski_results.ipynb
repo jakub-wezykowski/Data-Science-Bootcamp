{
 "cells": [
  {
   "cell_type": "code",
   "execution_count": 1,
   "metadata": {},
   "outputs": [
    {
     "name": "stdout",
     "output_type": "stream",
     "text": [
      "Podaj dzień dla którego ma zostać wyliczony raport, możliwe wartości to: \n",
      "Monday\n",
      "Tuesday\n",
      "Wednesday\n",
      "Thursday\n",
      "Friday\n",
      "Saturday\n",
      "Sunday\n",
      "Podano nie prawidłową wartość, wróć do listy możliwych wyborów (wielkość liter nie ma znaczenia)\n"
     ]
    }
   ],
   "source": [
    "import pandas as pd\n",
    "import matplotlib.pyplot as plt\n",
    "\n",
    "pomiary = {\"monday\":1250, \"tuesday\":1405, \"wednesday\":1750, \"thursday\":1100, \"friday\":800, \"saturday\":1225, \"sunday\":1355}\n",
    "str = '|--------------------|'\n",
    "index = 1\n",
    "new_character = '#'\n",
    "wynik = 0\n",
    "\n",
    "print(\"Podaj dzień dla którego ma zostać wyliczony raport, możliwe wartości to: \\nMonday\\nTuesday\\nWednesday\\nThursday\\nFriday\\nSaturday\\nSunday\")\n",
    "\n",
    "dzien = input('Wprowadź dzień: ').lower()\n",
    "\n",
    "if dzien in pomiary:\n",
    "    if pomiary[dzien] >= 1400:\n",
    "        wynik = pomiary[dzien] / 22.5\n",
    "    elif pomiary[dzien] <= 1200:\n",
    "        wynik = pomiary[dzien] / 23.5\n",
    "    else:\n",
    "        wynik = pomiary[dzien] / 23.1\n",
    "    print(\"\\nDane dla:\", dzien)\n",
    "    print(\"Wskazanie czujnika:\", pomiary[dzien])\n",
    "    print(round(wynik,3),u\"\\u2103\")\n",
    "    while index < wynik / 5:\n",
    "        str = str[:index] + new_character + str[index+1:]\n",
    "        index += 1\n",
    "    print(\"0\\u2103 \",str,\" 100\\u2103\")\n",
    "    fig = plt.figure(figsize = (0.5, 5))\n",
    "    plt.bar(dzien, wynik, color ='maroon')\n",
    "    plt.title(\"Temperatura\")\n",
    "    plt.show()\n",
    "else:\n",
    "    print(\"Podano nie prawidłową wartość, wróć do listy możliwych wyborów (wielkość liter nie ma znaczenia)\")\n",
    "\n"
   ]
  }
 ],
 "metadata": {
  "kernelspec": {
   "display_name": "base",
   "language": "python",
   "name": "python3"
  },
  "language_info": {
   "codemirror_mode": {
    "name": "ipython",
    "version": 3
   },
   "file_extension": ".py",
   "mimetype": "text/x-python",
   "name": "python",
   "nbconvert_exporter": "python",
   "pygments_lexer": "ipython3",
   "version": "3.9.13"
  },
  "orig_nbformat": 4,
  "vscode": {
   "interpreter": {
    "hash": "0d23164dccc46cd58776d6c42b6e08520d8e560835c24fb22e35df0b0152d5ce"
   }
  }
 },
 "nbformat": 4,
 "nbformat_minor": 2
}
