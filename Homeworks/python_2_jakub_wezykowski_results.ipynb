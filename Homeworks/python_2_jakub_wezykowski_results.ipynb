{
 "cells": [
  {
   "attachments": {},
   "cell_type": "markdown",
   "id": "316575a2",
   "metadata": {},
   "source": [
    "# Zadanie 1 (4pkt)\n",
    "\n",
    "Napisz funkcję create_tower, która jako input przyjmuje integera większego od 0 i która printuje 'piramidę' z gwiazdek z taką liczbą pięter jak podany integer:\n",
    "\n",
    "Przykładowe rozwiązanie:\n",
    "\n",
    "In: create_tower(3)\n",
    "\n",
    "Out:\n",
    "```\n",
    "  *  \n",
    " *** \n",
    "*****\n",
    "```"
   ]
  },
  {
   "cell_type": "code",
   "execution_count": 135,
   "id": "a6ef4050",
   "metadata": {},
   "outputs": [
    {
     "name": "stdout",
     "output_type": "stream",
     "text": [
      "Piramida 6 piętrowa:\n",
      "\n",
      "     *\n",
      "    ***\n",
      "   *****\n",
      "  *******\n",
      " *********\n",
      "***********\n"
     ]
    }
   ],
   "source": [
    "#Rozwiązanie - funckja: \n",
    "def create_tower(n):\n",
    "    for i in range(1, n+1):\n",
    "        print(' '*(n-i) + '*'*(2*i-1))\n",
    "\n",
    "#Opcja z podaniem liczby pięter przez użytkownika i walidacja czy podano liczbę: \n",
    "while True:\n",
    "    try:\n",
    "        tower_steps = input('Podaj liczbę pięter piramidy: ')\n",
    "        tower_steps = int(tower_steps)\n",
    "        if not isinstance(tower_steps, int) or tower_steps <= 0:\n",
    "            raise ValueError()\n",
    "        break\n",
    "    except ValueError:\n",
    "        print('Nieprawidłowy wybór. Musisz podać liczbę całkowitą większą od zera, spróbuj jeszcze raz.')\n",
    "\n",
    "#Kod który zostanie wykonany jeśli użytkownik poda liczbę całkowitą większą od 0: \n",
    "print(f'Piramida {tower_steps} piętrowa:\\n')\n",
    "create_tower(tower_steps)"
   ]
  },
  {
   "attachments": {},
   "cell_type": "markdown",
   "id": "7536bc54",
   "metadata": {},
   "source": [
    "# Zadanie 2 (6 pkt)\n",
    "\n",
    "### Napisz gre 'kółko i krzyżyk'\n",
    "\n",
    "Wyświetlaj aktualny stan planszy przy pomocy znaków 'o', 'x', '-' w trzech wierszach\n",
    "Np.:\n",
    "\n",
    "```\n",
    "--x\n",
    "-x-\n",
    "oo-\n",
    "```\n",
    "\n",
    "Naprzemiennie pytaj użytkowników, gdzie postawić 'x', a gdzie 'o', przyjmując od nich numer pozycji od 1 do 9. Ustawienie pozycji zakładamy następujące:\n",
    "\n",
    "```\n",
    "123\n",
    "456\n",
    "789\n",
    "```\n",
    "\n",
    "Zakończ grę gdy jedna ze stron wygra, lub wszystkie miejsca będą zapełnione.\n",
    "\n",
    "Wyświetlaj aktualny stan planszy każdego etapu po kolei, jedno pod drugim."
   ]
  },
  {
   "cell_type": "code",
   "execution_count": 4,
   "id": "632de901",
   "metadata": {},
   "outputs": [
    {
     "name": "stdout",
     "output_type": "stream",
     "text": [
      "Kółko i krzyżyk!\n",
      "\n",
      "\n",
      "---\n",
      "---\n",
      "---\n",
      "\n",
      "\n",
      "X--\n",
      "---\n",
      "---\n",
      "\n",
      "\n",
      "XO-\n",
      "---\n",
      "---\n",
      "\n",
      "\n",
      "XOX\n",
      "---\n",
      "---\n",
      "\n",
      "\n",
      "XOX\n",
      "O--\n",
      "---\n",
      "\n",
      "\n",
      "XOX\n",
      "OX-\n",
      "---\n",
      "\n",
      "\n",
      "XOX\n",
      "OXO\n",
      "---\n",
      "\n",
      "\n",
      "XOX\n",
      "OXO\n",
      "X--\n",
      "\n",
      "Wygrał gracz X!\n"
     ]
    }
   ],
   "source": [
    "print('Kółko i krzyżyk!')\n",
    "\n",
    "# Przygotuj początkowy stan gry\n",
    "plansza = ['-'] * 9\n",
    "gracz = 'X'\n",
    "\n",
    "#Stworzenie planszy do gry:\n",
    "def print_plansza(plansza):\n",
    "    print(plansza[0] + plansza[1] + plansza[2])\n",
    "    print(plansza[3] + plansza[4] + plansza[5])\n",
    "    print(plansza[6] + plansza[7] + plansza[8])\n",
    "    \n",
    "#Sprawdzenie warunków do zakończenia gry\n",
    "def koniec_gry(plansza):\n",
    "    warunek_wygranej = [\n",
    "        #warunek wygranej dla wierszy:\n",
    "        (0,1,2), (3,4,5), (6,7,8),\n",
    "        #warunek wygranej dla kolumn:\n",
    "        (0,3,6), (1,4,7), (2,5,8),\n",
    "        #warunek wygranej na krzyć:\n",
    "        (0,4,8), (2,4,6),\n",
    "        ]\n",
    "    for a,b,c in warunek_wygranej:\n",
    "        if plansza[a] != '-' and plansza[a] == plansza[b] and plansza[b] == plansza[c]:\n",
    "            return plansza[a]\n",
    "    return None\n",
    "\n",
    "# Główna pętla gry\n",
    "while True:\n",
    "\n",
    "    # Wyświetl planszę\n",
    "    print('\\n')\n",
    "    print_plansza(plansza)\n",
    "\n",
    "    # Pobierz decyzję \n",
    "    while True:\n",
    "        try:\n",
    "            ruch = int(input(f'Gracz {gracz}, wybierz pozycję w zakresie 1-9: '))\n",
    "            if ruch not in range(1, 10):\n",
    "                raise ValueError()\n",
    "            break\n",
    "        except ValueError:\n",
    "            print('Nieprawidłowy wybór, spróbuj ponownie.')\n",
    "    \n",
    "    # Sprawdź wynik: \n",
    "    if plansza[ruch-1] == '-':\n",
    "        plansza[ruch-1] = gracz\n",
    "        wygrana = koniec_gry(plansza)\n",
    "        if wygrana:\n",
    "            print('\\n')\n",
    "            print_plansza(plansza)\n",
    "            print(f'\\nWygrał gracz {gracz}!')\n",
    "            break\n",
    "        if '-' not in plansza:\n",
    "            print('\\n')    \n",
    "            print_plansza(plansza)\n",
    "            print('\\nRemis - nikt nie wygrał!')\n",
    "            break\n",
    "        gracz = 'O' if gracz == 'X' else 'X'\n",
    "    else:\n",
    "        print('Nieprawidłowy ruch, wybierz nie zajętą pozycję z zakresu 1-9')"
   ]
  },
  {
   "cell_type": "markdown",
   "id": "2bcfa122",
   "metadata": {},
   "source": [
    "# Zadanie 3 (10 pkt)\n",
    "\n",
    "Pobierz zbiór danych o zawodnikach NBA: https://www.kaggle.com/justinas/nba-players-data\n",
    "\n",
    "Otwórz go za pomocą Pandas i odpowiedz na pytania:"
   ]
  },
  {
   "cell_type": "code",
   "execution_count": 136,
   "id": "05ec3ac3",
   "metadata": {},
   "outputs": [
    {
     "name": "stdout",
     "output_type": "stream",
     "text": [
      "Requirement already satisfied: kaggle in c:\\users\\jakub\\anaconda3\\lib\\site-packages (1.5.13)\n",
      "Requirement already satisfied: python-slugify in c:\\users\\jakub\\anaconda3\\lib\\site-packages (from kaggle) (5.0.2)\n",
      "Requirement already satisfied: six>=1.10 in c:\\users\\jakub\\anaconda3\\lib\\site-packages (from kaggle) (1.16.0)\n",
      "Requirement already satisfied: urllib3 in c:\\users\\jakub\\anaconda3\\lib\\site-packages (from kaggle) (1.26.11)\n",
      "Requirement already satisfied: python-dateutil in c:\\users\\jakub\\anaconda3\\lib\\site-packages (from kaggle) (2.8.2)\n",
      "Requirement already satisfied: requests in c:\\users\\jakub\\anaconda3\\lib\\site-packages (from kaggle) (2.28.1)\n",
      "Requirement already satisfied: certifi in c:\\users\\jakub\\anaconda3\\lib\\site-packages (from kaggle) (2022.9.14)\n",
      "Requirement already satisfied: tqdm in c:\\users\\jakub\\anaconda3\\lib\\site-packages (from kaggle) (4.64.1)\n",
      "Requirement already satisfied: text-unidecode>=1.3 in c:\\users\\jakub\\anaconda3\\lib\\site-packages (from python-slugify->kaggle) (1.3)\n",
      "Requirement already satisfied: charset-normalizer<3,>=2 in c:\\users\\jakub\\anaconda3\\lib\\site-packages (from requests->kaggle) (2.0.4)\n",
      "Requirement already satisfied: idna<4,>=2.5 in c:\\users\\jakub\\anaconda3\\lib\\site-packages (from requests->kaggle) (3.3)\n",
      "Requirement already satisfied: colorama in c:\\users\\jakub\\anaconda3\\lib\\site-packages (from tqdm->kaggle) (0.4.5)\n"
     ]
    }
   ],
   "source": [
    "#Pobranie zbioru danych o zawodnikach NBA z Kaggle: \n",
    "\n",
    "!pip install kaggle\n",
    "\n",
    "import os\n",
    "from kaggle.api.kaggle_api_extended import KaggleApi\n",
    "\n",
    "# Ustawienie nazwy pliku i lokalizacji na dysku, w której zostaną zapisane pobrane dane\n",
    "file_name = 'nba_players_data.zip'\n",
    "path = os.path.join(os.getcwd(), file_name)\n",
    "\n",
    "# Konfiguracja API Kaggle\n",
    "api = KaggleApi()\n",
    "api.authenticate()\n",
    "\n",
    "#Pobranie danych i zapisanie ich na dysku\n",
    "api.dataset_download_files('justinas/nba-players-data', path=path, unzip=True)"
   ]
  },
  {
   "cell_type": "code",
   "execution_count": 64,
   "id": "54a5de48",
   "metadata": {},
   "outputs": [
    {
     "name": "stdout",
     "output_type": "stream",
     "text": [
      "   Unnamed: 0        player_name team_abbreviation   age  player_height  \\\n",
      "0           0      Dennis Rodman               CHI  36.0         198.12   \n",
      "1           1  Dwayne Schintzius               LAC  28.0         215.90   \n",
      "2           2       Earl Cureton               TOR  39.0         205.74   \n",
      "3           3        Ed O'Bannon               DAL  24.0         203.20   \n",
      "4           4        Ed Pinckney               MIA  34.0         205.74   \n",
      "\n",
      "   player_weight                      college country draft_year draft_round  \\\n",
      "0      99.790240  Southeastern Oklahoma State     USA       1986           2   \n",
      "1     117.933920                      Florida     USA       1990           1   \n",
      "2      95.254320                Detroit Mercy     USA       1979           3   \n",
      "3     100.697424                         UCLA     USA       1995           1   \n",
      "4     108.862080                    Villanova     USA       1985           1   \n",
      "\n",
      "   ...  pts   reb  ast  net_rating  oreb_pct  dreb_pct  usg_pct  ts_pct  \\\n",
      "0  ...  5.7  16.1  3.1        16.1     0.186     0.323    0.100   0.479   \n",
      "1  ...  2.3   1.5  0.3        12.3     0.078     0.151    0.175   0.430   \n",
      "2  ...  0.8   1.0  0.4        -2.1     0.105     0.102    0.103   0.376   \n",
      "3  ...  3.7   2.3  0.6        -8.7     0.060     0.149    0.167   0.399   \n",
      "4  ...  2.4   2.4  0.2       -11.2     0.109     0.179    0.127   0.611   \n",
      "\n",
      "   ast_pct   season  \n",
      "0    0.113  1996-97  \n",
      "1    0.048  1996-97  \n",
      "2    0.148  1996-97  \n",
      "3    0.077  1996-97  \n",
      "4    0.040  1996-97  \n",
      "\n",
      "[5 rows x 22 columns]\n"
     ]
    }
   ],
   "source": [
    "\n",
    "import pandas as pd\n",
    "import numpy as np\n",
    "\n",
    "# Otwarcie pliku za pomocą biblioteki Pandas\n",
    "file_path = r'C:\\Users\\jakub\\Desktop\\Data Science Bootcamp\\jdszr10-homeworks\\jakub_wezykowski\\nba_players_data.zip\\all_seasons.csv'\n",
    "nba = pd.read_csv(file_path)\n",
    "\n",
    "print(nba.head())"
   ]
  },
  {
   "cell_type": "markdown",
   "id": "e2c7be68",
   "metadata": {},
   "source": [
    "a) Czy jest jakikolwiek zawodnik spoza USA, który przed NBA uczęszczał do college'u Kentucky?"
   ]
  },
  {
   "cell_type": "code",
   "execution_count": 144,
   "id": "a967a1a6",
   "metadata": {},
   "outputs": [
    {
     "name": "stdout",
     "output_type": "stream",
     "text": [
      "Jest 12 zawodników spoza USA, którzy przed NBA uczęszczali do college'u Kentucky.\n",
      "Są to zawodnicy: Jamaal Magloire, Kelenna Azubuike, Enes Kanter, Skal Labissiere, Jamal Murray, Shai Gilgeous-Alexander, Isaac Humphries, Mychal Mulder, Trey Lyles, Wenyen Gabriel, Nick Richards, Olivier Sarr\n"
     ]
    }
   ],
   "source": [
    "Kentucky_players = nba.loc[(nba.country != 'USA') & (nba.college == 'Kentucky'), 'player_name'].unique()\n",
    "Kentucky_players_str = ', '.join(Kentucky_players)\n",
    "count_Kentucky_players = len(Kentucky_players)\n",
    "\n",
    "print(f\"Jest {count_Kentucky_players} zawodników spoza USA, którzy przed NBA uczęszczali do college'u Kentucky.\") \n",
    "print(f\"Są to zawodnicy: {Kentucky_players_str}\")"
   ]
  },
  {
   "cell_type": "markdown",
   "id": "c31a4e55",
   "metadata": {},
   "source": [
    "b) Ile wynosi średni wzrost zawodnika w calach? Czy od pierwszego sezonu w tym zbiorze do teraz powiększył się czy zmniejszył?"
   ]
  },
  {
   "cell_type": "code",
   "execution_count": 145,
   "id": "b67948c8",
   "metadata": {},
   "outputs": [
    {
     "name": "stdout",
     "output_type": "stream",
     "text": [
      "Ile wynosi średni wzrost zawodnika w calach?\n",
      "Średni wzrost zawodnika w tym zbiorze wynosi 78.98 cala\n",
      "\n",
      "Czy od pierwszego sezonu w tym zbiorze do teraz powiększył się czy zmniejszył?\n",
      "Zmniejszył. Średni wzrost graczy od pierwszego sezonu w tym zbiorze do teraz jest mniejszy o 1.04 cala\n"
     ]
    }
   ],
   "source": [
    "# Sprawdzenie średniego wzrostu zawodnika w calach \n",
    "height_mean = nba.player_height.mean() * 0.393701\n",
    "\n",
    "# Sprawdzenie jaki jest pierwszy sezon, a jaki ostatni w zbiorze\n",
    "min_season = nba['season'].min()\n",
    "max_season = nba['season'].max()\n",
    "\n",
    "# Sprawdzenie i porównanie średniego wzrostu w pierwszym i ostatnim sezonie\n",
    "height_mean_1996 = nba.loc[nba['season'] == min_season, 'player_height'].mean() * 0.393701\n",
    "height_mean_2021 = nba.loc[nba['season'] == max_season, 'player_height'].mean() * 0.393701\n",
    "height_mean_diff = abs(height_mean_2021 - height_mean_1996)\n",
    "\n",
    "# Odpowiedzi\n",
    "print(\"Ile wynosi średni wzrost zawodnika w calach?\")\n",
    "print(\"Średni wzrost zawodnika w tym zbiorze wynosi {:.2f} cala\".format(height_mean))\n",
    "\n",
    "print(\"\\nCzy od pierwszego sezonu w tym zbiorze do teraz powiększył się czy zmniejszył?\")\n",
    "if height_mean_2021 > height_mean_1996:\n",
    "    print(\"Powiększył. Średni wzrost graczy od pierwszego sezonu w tym zbiorze do teraz powiększył się o: {:.2f} cali.\".format(height_mean_diff))\n",
    "else:\n",
    "    print(\"Zmniejszył. Średni wzrost graczy od pierwszego sezonu w tym zbiorze do teraz jest mniejszy o {:.2f} cala\".format(height_mean_diff))"
   ]
  },
  {
   "cell_type": "markdown",
   "id": "ee17c7cd",
   "metadata": {},
   "source": [
    "c) Kto w badanym okresie rzucił łącznie najwięcej punktów? Czy ta osoba miała też największą średnią punktów na sezon?"
   ]
  },
  {
   "cell_type": "code",
   "execution_count": 108,
   "id": "d3edbd16",
   "metadata": {},
   "outputs": [
    {
     "name": "stdout",
     "output_type": "stream",
     "text": [
      "Kto w badanym okresie rzucił łącznie najwięcej punktów?\n",
      "Zawodnikiem który zdobył największą ilość punktów w badanym okresie jest LeBron James z wynikiem 37058 punktów.\n",
      "\n",
      "Czy ta osoba miała też największą średnią punktów na sezon?\n",
      "Nie, zawodnikiem który zbobył największą średnią punktów na sezon jest James Harden.\n",
      "Było to w sezonie 2018-19 z wynikiem 36.1. punktów na mecz.\n"
     ]
    }
   ],
   "source": [
    "# Stworzenie kolumny total points która pokaże ile dany zawodnik zdobył punktów w danym sezonie poprzez pomnożenie średniej liczby punktów przez liczbę rozegranych meczy. \n",
    "nba['total_points'] = nba['pts'] * nba['gp']\n",
    "\n",
    "# Podsumowanie zdobytych punktów w badanym okresie dla każdego zawodnika\n",
    "total_points_by_player = nba.groupby('player_name')['total_points'].sum()\n",
    "\n",
    "# Stworzenie nowego df z informacją o zawodniku i sumie punktów które zdobył w badanych okresie \n",
    "player_scores = pd.DataFrame({'player_name': total_points_by_player.index, 'total_points': total_points_by_player.values.astype(int)})\n",
    "\n",
    "# Sortowanie po wynikach i pokazanie zawodnika z największą ilością punktó w badanym okresie\n",
    "highest_scorer = player_scores.sort_values(by='total_points', ascending=False).iloc[0]\n",
    "\n",
    "# Określenie indeksu wartości dla największej średniej punktów na sezon i na tej podstawie uzyskanie informacji o zawodniku, średniej punktów i sezonie:\n",
    "max_pts_index = nba['pts'].idxmax()\n",
    "player_name_max_pts = nba.loc[max_pts_index, 'player_name']\n",
    "max_pts = nba.loc[max_pts_index, 'pts']\n",
    "season = nba.loc[max_pts_index, 'season']\n",
    "\n",
    "# Odpowiedzi\n",
    "print(\"Kto w badanym okresie rzucił łącznie najwięcej punktów?\")\n",
    "print(f\"Zawodnikiem który zdobył największą ilość punktów w badanym okresie jest {highest_scorer['player_name']} z wynikiem {highest_scorer['total_points']} punktów.\")\n",
    "\n",
    "print(\"\\nCzy ta osoba miała też największą średnią punktów na sezon?\")\n",
    "if player_name_max_pts == highest_scorer['player_name']:\n",
    "    print(f\"Tak, {highest_scorer['player_name']} jest też zawodnikiem który zbobył największą średnią punktów na sezon.\") \n",
    "    print(f\"Było to w sezonie {season} z wynikiem {max_pts}. punktów na mecz\")\n",
    "else:\n",
    "    print(f\"Nie, zawodnikiem który zbobył największą średnią punktów na sezon jest {player_name_max_pts}.\")\n",
    "    print(f\"Było to w sezonie {season} z wynikiem {max_pts}. punktów na mecz.\")"
   ]
  },
  {
   "cell_type": "markdown",
   "id": "2db9fc0c",
   "metadata": {},
   "source": [
    "d) W której rundzie draftu największy udział procentowy mieli zawodnicy ważący więcej niż 100 kg?"
   ]
  },
  {
   "cell_type": "code",
   "execution_count": 134,
   "id": "aa3e4318",
   "metadata": {},
   "outputs": [
    {
     "name": "stdout",
     "output_type": "stream",
     "text": [
      "W której rundzie draftu największy udział procentowy mieli zawodnicy ważący więcej niż 100 kg?\n",
      "\n",
      "Największy udział procentowy zawodników ważących więcej niż 100 kg był w rundzie draftu numer 4.\n"
     ]
    }
   ],
   "source": [
    "# Wybranie wierszy, dla których zawodnik waży więcej niż 100 kg\n",
    "player_weight_100 = nba[nba['player_weight'] > 100]\n",
    "\n",
    "# Zgrupowanie danych według rundy draftu i wyliczenie procentowego udziału zawodników ważących więcej niż 100 kg w każdej rundzie\n",
    "player_weight_by_round = player_weight_100.groupby('draft_round').size() / nba.groupby('draft_round').size()\n",
    "\n",
    "# Wybór rundy draftu, dla której procentowy udział zawodników ważących więcej niż 100 kg jest największy\n",
    "player_weight_100_by_round_max = player_weight_by_round.idxmax()\n",
    "\n",
    "# Odpowiedź\n",
    "print(\"W której rundzie draftu największy udział procentowy mieli zawodnicy ważący więcej niż 100 kg?\")\n",
    "print(f\"\\nNajwiększy udział procentowy zawodników ważących więcej niż 100 kg był w rundzie draftu numer {player_weight_100_by_round_max}.\")\n"
   ]
  }
 ],
 "metadata": {
  "kernelspec": {
   "display_name": "Python 3 (ipykernel)",
   "language": "python",
   "name": "python3"
  },
  "language_info": {
   "codemirror_mode": {
    "name": "ipython",
    "version": 3
   },
   "file_extension": ".py",
   "mimetype": "text/x-python",
   "name": "python",
   "nbconvert_exporter": "python",
   "pygments_lexer": "ipython3",
   "version": "3.9.13"
  }
 },
 "nbformat": 4,
 "nbformat_minor": 5
}
