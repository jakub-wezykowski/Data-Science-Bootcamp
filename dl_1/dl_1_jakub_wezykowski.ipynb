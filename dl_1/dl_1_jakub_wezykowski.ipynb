{
 "cells": [
  {
   "attachments": {},
   "cell_type": "markdown",
   "id": "b6fa6d04",
   "metadata": {
    "id": "b6fa6d04"
   },
   "source": [
    "Zadaniem jest określenie typów wina na podstawie poniższego zbioru danych:\n",
    "https://scikit-learn.org/stable/modules/generated/sklearn.datasets.load_wine.html\n",
    "- Przeprowadź krótką wstępną analizę danych\n",
    "- Stwórz funkcję budującą model (DNN)\n",
    "- Przeprowadź trening i walidację wyników\n",
    "- Na podstawie historii treningu przedstaw zmianę funkcji loss\n",
    "- Sprawdź jak zmiana hiperparametrów i architektury Twojej sieci wpływa na wyniki i przedstaw swoje obserwacje"
   ]
  },
  {
   "cell_type": "code",
   "execution_count": 17,
   "id": "eac96595",
   "metadata": {},
   "outputs": [],
   "source": [
    "# downloading libraries \n",
    "\n",
    "import pandas as pd\n",
    "import numpy as np\n",
    "\n",
    "from keras.models import Sequential\n",
    "from keras.layers import Dense\n",
    "from keras.utils import to_categorical\n",
    "from sklearn.model_selection import train_test_split\n",
    "from sklearn.preprocessing import StandardScaler\n",
    "\n",
    "import matplotlib.pyplot as plt\n",
    "\n",
    "from keras.layers import Dropout\n",
    "from keras.optimizers import RMSprop"
   ]
  },
  {
   "cell_type": "code",
   "execution_count": 7,
   "id": "385d0055",
   "metadata": {
    "id": "385d0055",
    "outputId": "448ef215-a988-4de4-ebee-9085e79f8350"
   },
   "outputs": [
    {
     "name": "stdout",
     "output_type": "stream",
     "text": [
      ".. _wine_dataset:\n",
      "\n",
      "Wine recognition dataset\n",
      "------------------------\n",
      "\n",
      "**Data Set Characteristics:**\n",
      "\n",
      "    :Number of Instances: 178\n",
      "    :Number of Attributes: 13 numeric, predictive attributes and the class\n",
      "    :Attribute Information:\n",
      " \t\t- Alcohol\n",
      " \t\t- Malic acid\n",
      " \t\t- Ash\n",
      "\t\t- Alcalinity of ash  \n",
      " \t\t- Magnesium\n",
      "\t\t- Total phenols\n",
      " \t\t- Flavanoids\n",
      " \t\t- Nonflavanoid phenols\n",
      " \t\t- Proanthocyanins\n",
      "\t\t- Color intensity\n",
      " \t\t- Hue\n",
      " \t\t- OD280/OD315 of diluted wines\n",
      " \t\t- Proline\n",
      "\n",
      "    - class:\n",
      "            - class_0\n",
      "            - class_1\n",
      "            - class_2\n",
      "\t\t\n",
      "    :Summary Statistics:\n",
      "    \n",
      "    ============================= ==== ===== ======= =====\n",
      "                                   Min   Max   Mean     SD\n",
      "    ============================= ==== ===== ======= =====\n",
      "    Alcohol:                      11.0  14.8    13.0   0.8\n",
      "    Malic Acid:                   0.74  5.80    2.34  1.12\n",
      "    Ash:                          1.36  3.23    2.36  0.27\n",
      "    Alcalinity of Ash:            10.6  30.0    19.5   3.3\n",
      "    Magnesium:                    70.0 162.0    99.7  14.3\n",
      "    Total Phenols:                0.98  3.88    2.29  0.63\n",
      "    Flavanoids:                   0.34  5.08    2.03  1.00\n",
      "    Nonflavanoid Phenols:         0.13  0.66    0.36  0.12\n",
      "    Proanthocyanins:              0.41  3.58    1.59  0.57\n",
      "    Colour Intensity:              1.3  13.0     5.1   2.3\n",
      "    Hue:                          0.48  1.71    0.96  0.23\n",
      "    OD280/OD315 of diluted wines: 1.27  4.00    2.61  0.71\n",
      "    Proline:                       278  1680     746   315\n",
      "    ============================= ==== ===== ======= =====\n",
      "\n",
      "    :Missing Attribute Values: None\n",
      "    :Class Distribution: class_0 (59), class_1 (71), class_2 (48)\n",
      "    :Creator: R.A. Fisher\n",
      "    :Donor: Michael Marshall (MARSHALL%PLU@io.arc.nasa.gov)\n",
      "    :Date: July, 1988\n",
      "\n",
      "This is a copy of UCI ML Wine recognition datasets.\n",
      "https://archive.ics.uci.edu/ml/machine-learning-databases/wine/wine.data\n",
      "\n",
      "The data is the results of a chemical analysis of wines grown in the same\n",
      "region in Italy by three different cultivators. There are thirteen different\n",
      "measurements taken for different constituents found in the three types of\n",
      "wine.\n",
      "\n",
      "Original Owners: \n",
      "\n",
      "Forina, M. et al, PARVUS - \n",
      "An Extendible Package for Data Exploration, Classification and Correlation. \n",
      "Institute of Pharmaceutical and Food Analysis and Technologies,\n",
      "Via Brigata Salerno, 16147 Genoa, Italy.\n",
      "\n",
      "Citation:\n",
      "\n",
      "Lichman, M. (2013). UCI Machine Learning Repository\n",
      "[https://archive.ics.uci.edu/ml]. Irvine, CA: University of California,\n",
      "School of Information and Computer Science. \n",
      "\n",
      ".. topic:: References\n",
      "\n",
      "  (1) S. Aeberhard, D. Coomans and O. de Vel, \n",
      "  Comparison of Classifiers in High Dimensional Settings, \n",
      "  Tech. Rep. no. 92-02, (1992), Dept. of Computer Science and Dept. of  \n",
      "  Mathematics and Statistics, James Cook University of North Queensland. \n",
      "  (Also submitted to Technometrics). \n",
      "\n",
      "  The data was used with many others for comparing various \n",
      "  classifiers. The classes are separable, though only RDA \n",
      "  has achieved 100% correct classification. \n",
      "  (RDA : 100%, QDA 99.4%, LDA 98.9%, 1NN 96.1% (z-transformed data)) \n",
      "  (All results using the leave-one-out technique) \n",
      "\n",
      "  (2) S. Aeberhard, D. Coomans and O. de Vel, \n",
      "  \"THE CLASSIFICATION PERFORMANCE OF RDA\" \n",
      "  Tech. Rep. no. 92-01, (1992), Dept. of Computer Science and Dept. of \n",
      "  Mathematics and Statistics, James Cook University of North Queensland. \n",
      "  (Also submitted to Journal of Chemometrics).\n",
      "\n"
     ]
    }
   ],
   "source": [
    "from sklearn.datasets import load_wine\n",
    "data = load_wine()\n",
    "print(data.DESCR)"
   ]
  },
  {
   "attachments": {},
   "cell_type": "markdown",
   "id": "16c2ae49",
   "metadata": {},
   "source": [
    "From data set characteristics it seems we have 13 features and 3 classes to predict. Each class is another type of wine. "
   ]
  },
  {
   "cell_type": "code",
   "execution_count": 8,
   "id": "503eb726",
   "metadata": {},
   "outputs": [
    {
     "name": "stdout",
     "output_type": "stream",
     "text": [
      "   alcohol  malic_acid   ash  alcalinity_of_ash  magnesium  total_phenols   \n",
      "0    14.23        1.71  2.43               15.6      127.0           2.80  \\\n",
      "1    13.20        1.78  2.14               11.2      100.0           2.65   \n",
      "2    13.16        2.36  2.67               18.6      101.0           2.80   \n",
      "3    14.37        1.95  2.50               16.8      113.0           3.85   \n",
      "4    13.24        2.59  2.87               21.0      118.0           2.80   \n",
      "\n",
      "   flavanoids  nonflavanoid_phenols  proanthocyanins  color_intensity   hue   \n",
      "0        3.06                  0.28             2.29             5.64  1.04  \\\n",
      "1        2.76                  0.26             1.28             4.38  1.05   \n",
      "2        3.24                  0.30             2.81             5.68  1.03   \n",
      "3        3.49                  0.24             2.18             7.80  0.86   \n",
      "4        2.69                  0.39             1.82             4.32  1.04   \n",
      "\n",
      "   od280/od315_of_diluted_wines  proline  target  \n",
      "0                          3.92   1065.0     0.0  \n",
      "1                          3.40   1050.0     0.0  \n",
      "2                          3.17   1185.0     0.0  \n",
      "3                          3.45   1480.0     0.0  \n",
      "4                          2.93    735.0     0.0  \n"
     ]
    }
   ],
   "source": [
    "# Creating a DataFrame\n",
    "\n",
    "df = pd.DataFrame(data=np.c_[data['data'], data['target']],\n",
    "                  columns=data['feature_names'] + ['target'])\n",
    "\n",
    "print(df.head())"
   ]
  },
  {
   "cell_type": "code",
   "execution_count": 9,
   "id": "db02f89a",
   "metadata": {},
   "outputs": [
    {
     "name": "stdout",
     "output_type": "stream",
     "text": [
      "target\n",
      "1.0    71\n",
      "0.0    59\n",
      "2.0    48\n",
      "Name: count, dtype: int64\n"
     ]
    }
   ],
   "source": [
    "# Checking the distribution of classes\n",
    "\n",
    "print(df['target'].value_counts())"
   ]
  },
  {
   "cell_type": "code",
   "execution_count": 10,
   "id": "315ef3dc",
   "metadata": {},
   "outputs": [],
   "source": [
    "# Creating function for DNN model\n",
    "\n",
    "def build_model(input_shape, num_classes):\n",
    "    model = Sequential()\n",
    "    model.add(Dense(64, activation='relu', input_shape=(input_shape,)))\n",
    "    model.add(Dense(64, activation='relu'))\n",
    "    model.add(Dense(num_classes, activation='softmax'))\n",
    "\n",
    "    model.compile(optimizer='adam', \n",
    "                  loss='categorical_crossentropy', \n",
    "                  metrics=['accuracy'])\n",
    "    return model"
   ]
  },
  {
   "cell_type": "code",
   "execution_count": 11,
   "id": "fb60789d",
   "metadata": {},
   "outputs": [
    {
     "name": "stdout",
     "output_type": "stream",
     "text": [
      "Epoch 1/20\n",
      "5/5 [==============================] - 1s 78ms/step - loss: 1.1196 - accuracy: 0.3662 - val_loss: 0.8964 - val_accuracy: 0.6111\n",
      "Epoch 2/20\n",
      "5/5 [==============================] - 0s 20ms/step - loss: 0.9193 - accuracy: 0.5845 - val_loss: 0.7369 - val_accuracy: 0.8889\n",
      "Epoch 3/20\n",
      "5/5 [==============================] - 0s 15ms/step - loss: 0.7570 - accuracy: 0.8169 - val_loss: 0.5988 - val_accuracy: 0.9722\n",
      "Epoch 4/20\n",
      "5/5 [==============================] - 0s 13ms/step - loss: 0.6244 - accuracy: 0.9155 - val_loss: 0.4822 - val_accuracy: 0.9722\n",
      "Epoch 5/20\n",
      "5/5 [==============================] - 0s 10ms/step - loss: 0.5138 - accuracy: 0.9366 - val_loss: 0.3852 - val_accuracy: 0.9722\n",
      "Epoch 6/20\n",
      "5/5 [==============================] - 0s 10ms/step - loss: 0.4176 - accuracy: 0.9789 - val_loss: 0.3047 - val_accuracy: 1.0000\n",
      "Epoch 7/20\n",
      "5/5 [==============================] - 0s 12ms/step - loss: 0.3360 - accuracy: 0.9789 - val_loss: 0.2406 - val_accuracy: 1.0000\n",
      "Epoch 8/20\n",
      "5/5 [==============================] - 0s 10ms/step - loss: 0.2701 - accuracy: 0.9789 - val_loss: 0.1903 - val_accuracy: 1.0000\n",
      "Epoch 9/20\n",
      "5/5 [==============================] - 0s 10ms/step - loss: 0.2175 - accuracy: 0.9789 - val_loss: 0.1521 - val_accuracy: 1.0000\n",
      "Epoch 10/20\n",
      "5/5 [==============================] - 0s 9ms/step - loss: 0.1766 - accuracy: 0.9789 - val_loss: 0.1235 - val_accuracy: 0.9722\n",
      "Epoch 11/20\n",
      "5/5 [==============================] - 0s 21ms/step - loss: 0.1456 - accuracy: 0.9789 - val_loss: 0.1029 - val_accuracy: 0.9722\n",
      "Epoch 12/20\n",
      "5/5 [==============================] - 0s 9ms/step - loss: 0.1221 - accuracy: 0.9789 - val_loss: 0.0864 - val_accuracy: 0.9722\n",
      "Epoch 13/20\n",
      "5/5 [==============================] - 0s 9ms/step - loss: 0.1037 - accuracy: 0.9859 - val_loss: 0.0741 - val_accuracy: 0.9722\n",
      "Epoch 14/20\n",
      "5/5 [==============================] - 0s 9ms/step - loss: 0.0893 - accuracy: 0.9859 - val_loss: 0.0639 - val_accuracy: 1.0000\n",
      "Epoch 15/20\n",
      "5/5 [==============================] - 0s 10ms/step - loss: 0.0774 - accuracy: 0.9930 - val_loss: 0.0561 - val_accuracy: 1.0000\n",
      "Epoch 16/20\n",
      "5/5 [==============================] - 0s 9ms/step - loss: 0.0680 - accuracy: 0.9930 - val_loss: 0.0495 - val_accuracy: 1.0000\n",
      "Epoch 17/20\n",
      "5/5 [==============================] - 0s 9ms/step - loss: 0.0609 - accuracy: 0.9930 - val_loss: 0.0439 - val_accuracy: 1.0000\n",
      "Epoch 18/20\n",
      "5/5 [==============================] - 0s 9ms/step - loss: 0.0541 - accuracy: 0.9930 - val_loss: 0.0398 - val_accuracy: 1.0000\n",
      "Epoch 19/20\n",
      "5/5 [==============================] - 0s 13ms/step - loss: 0.0488 - accuracy: 1.0000 - val_loss: 0.0365 - val_accuracy: 1.0000\n",
      "Epoch 20/20\n",
      "5/5 [==============================] - 0s 9ms/step - loss: 0.0442 - accuracy: 1.0000 - val_loss: 0.0335 - val_accuracy: 1.0000\n"
     ]
    }
   ],
   "source": [
    "# training the model\n",
    "X_train, X_test, Y_train, Y_test = train_test_split(data['data'], data['target'], test_size=0.2, random_state=42)\n",
    "\n",
    "sc = StandardScaler()\n",
    "X_train = sc.fit_transform(X_train)\n",
    "X_test = sc.transform(X_test)\n",
    "\n",
    "Y_train = to_categorical(Y_train)\n",
    "Y_test = to_categorical(Y_test)\n",
    "\n",
    "model = build_model(X_train.shape[1], Y_train.shape[1])\n",
    "\n",
    "history = model.fit(X_train, Y_train, validation_data=(X_test, Y_test), epochs=20, batch_size=32)\n"
   ]
  },
  {
   "attachments": {},
   "cell_type": "markdown",
   "id": "48728293",
   "metadata": {},
   "source": [
    "With each epoch, the loss decreases for both the training and validation data, which is a good sign. The model's accuracy also increases, reaching 100% accuracy on both the training and validation data in the final epochs. In this case, it appears that the model is not overfitting, as the results for the validation set are similar to those for the training set.\n",
    "\n",
    "However, a perfectly matched model on the training and validation data can also be a signal that the model is overly fitted to a specific dataset and may have trouble generalizing to new, unseen data. "
   ]
  },
  {
   "cell_type": "code",
   "execution_count": 13,
   "id": "13aa9f29",
   "metadata": {},
   "outputs": [
    {
     "data": {
      "image/png": "[encoded data removed]",
      "text/plain": [
       "<Figure size 640x480 with 1 Axes>"
      ]
     },
     "metadata": {},
     "output_type": "display_data"
    }
   ],
   "source": [
    "# loss function changes\n",
    "\n",
    "plt.plot(history.history['loss'])\n",
    "plt.plot(history.history['val_loss'])\n",
    "plt.title('Model loss')\n",
    "plt.ylabel('Loss')\n",
    "plt.xlabel('Epoch')\n",
    "plt.legend(['Train', 'Test'], loc='upper right')\n",
    "plt.show()\n"
   ]
  },
  {
   "attachments": {},
   "cell_type": "markdown",
   "id": "295f82a1",
   "metadata": {},
   "source": [
    "We can see that the training and test lines decrease at a similar rate, which means that the model is learning and generalizing well."
   ]
  },
  {
   "attachments": {},
   "cell_type": "markdown",
   "id": "9c579514",
   "metadata": {},
   "source": [
    "To see how changes of hyperparamters and architecture may impact the results, following changes will be introduced to modify model above:\n",
    "\n",
    " - Number of neurons: In each dense layer, the number of neurons will increase from 64 to 128. This may allow the network to learn more complex representations, but at the same time, it increases the risk of overfitting.\n",
    "\n",
    " - Dropout layers: Dropout layers will be added, which \"turn off\" randomly selected neurons during training, helping to prevent overfitting. A value of 0.5 means that 50% of neurons are \"turned off\" during each training iteration.\n",
    "\n",
    " - Optimizer: the optimizer will change from \"adam\" to \"RMSprop\". Different optimizers work in slightly different ways and can affect the speed and stability of the learning process.\n",
    "\n",
    " - Number of epochs: the number of epochs will inrcrease from 20 to 50, which means the network is trained for more iterations. This can lead to a better result, but it also increases the risk of overfitting.\n",
    "\n",
    "- Batch size: the batch size will increase from 32 to 64. The batch size is the number of samples that are propagated through the network simultaneously. A larger batch size can speed up the learning process but may be less accurate.\n"
   ]
  },
  {
   "cell_type": "code",
   "execution_count": 16,
   "id": "ab50b742",
   "metadata": {},
   "outputs": [
    {
     "name": "stdout",
     "output_type": "stream",
     "text": [
      "Epoch 1/50\n",
      "3/3 [==============================] - 1s 104ms/step - loss: 1.0154 - accuracy: 0.4859 - val_loss: 0.6667 - val_accuracy: 1.0000\n",
      "Epoch 2/50\n",
      "3/3 [==============================] - 0s 21ms/step - loss: 0.7225 - accuracy: 0.7394 - val_loss: 0.4887 - val_accuracy: 1.0000\n",
      "Epoch 3/50\n",
      "3/3 [==============================] - 0s 18ms/step - loss: 0.6002 - accuracy: 0.8380 - val_loss: 0.3756 - val_accuracy: 1.0000\n",
      "Epoch 4/50\n",
      "3/3 [==============================] - 0s 20ms/step - loss: 0.5103 - accuracy: 0.8592 - val_loss: 0.2996 - val_accuracy: 1.0000\n",
      "Epoch 5/50\n",
      "3/3 [==============================] - 0s 18ms/step - loss: 0.3735 - accuracy: 0.9296 - val_loss: 0.2451 - val_accuracy: 1.0000\n",
      "Epoch 6/50\n",
      "3/3 [==============================] - 0s 19ms/step - loss: 0.4263 - accuracy: 0.8803 - val_loss: 0.2036 - val_accuracy: 1.0000\n",
      "Epoch 7/50\n",
      "3/3 [==============================] - 0s 17ms/step - loss: 0.3254 - accuracy: 0.9155 - val_loss: 0.1749 - val_accuracy: 0.9722\n",
      "Epoch 8/50\n",
      "3/3 [==============================] - 0s 19ms/step - loss: 0.2965 - accuracy: 0.9437 - val_loss: 0.1491 - val_accuracy: 1.0000\n",
      "Epoch 9/50\n",
      "3/3 [==============================] - 0s 17ms/step - loss: 0.2356 - accuracy: 0.9577 - val_loss: 0.1266 - val_accuracy: 1.0000\n",
      "Epoch 10/50\n",
      "3/3 [==============================] - 0s 19ms/step - loss: 0.2140 - accuracy: 0.9648 - val_loss: 0.1106 - val_accuracy: 1.0000\n",
      "Epoch 11/50\n",
      "3/3 [==============================] - 0s 18ms/step - loss: 0.2063 - accuracy: 0.9648 - val_loss: 0.0961 - val_accuracy: 1.0000\n",
      "Epoch 12/50\n",
      "3/3 [==============================] - 0s 18ms/step - loss: 0.2042 - accuracy: 0.9437 - val_loss: 0.0856 - val_accuracy: 1.0000\n",
      "Epoch 13/50\n",
      "3/3 [==============================] - 0s 18ms/step - loss: 0.1629 - accuracy: 0.9648 - val_loss: 0.0722 - val_accuracy: 1.0000\n",
      "Epoch 14/50\n",
      "3/3 [==============================] - 0s 17ms/step - loss: 0.1496 - accuracy: 0.9577 - val_loss: 0.0652 - val_accuracy: 1.0000\n",
      "Epoch 15/50\n",
      "3/3 [==============================] - 0s 19ms/step - loss: 0.1650 - accuracy: 0.9507 - val_loss: 0.0585 - val_accuracy: 1.0000\n",
      "Epoch 16/50\n",
      "3/3 [==============================] - 0s 39ms/step - loss: 0.1263 - accuracy: 0.9859 - val_loss: 0.0492 - val_accuracy: 1.0000\n",
      "Epoch 17/50\n",
      "3/3 [==============================] - 0s 20ms/step - loss: 0.1445 - accuracy: 0.9577 - val_loss: 0.0463 - val_accuracy: 1.0000\n",
      "Epoch 18/50\n",
      "3/3 [==============================] - 0s 18ms/step - loss: 0.1077 - accuracy: 0.9789 - val_loss: 0.0503 - val_accuracy: 1.0000\n",
      "Epoch 19/50\n",
      "3/3 [==============================] - 0s 18ms/step - loss: 0.1026 - accuracy: 0.9859 - val_loss: 0.0462 - val_accuracy: 0.9722\n",
      "Epoch 20/50\n",
      "3/3 [==============================] - 0s 18ms/step - loss: 0.1247 - accuracy: 0.9718 - val_loss: 0.0393 - val_accuracy: 1.0000\n",
      "Epoch 21/50\n",
      "3/3 [==============================] - 0s 18ms/step - loss: 0.1033 - accuracy: 0.9789 - val_loss: 0.0326 - val_accuracy: 1.0000\n",
      "Epoch 22/50\n",
      "3/3 [==============================] - 0s 34ms/step - loss: 0.0947 - accuracy: 0.9930 - val_loss: 0.0308 - val_accuracy: 1.0000\n",
      "Epoch 23/50\n",
      "3/3 [==============================] - 0s 17ms/step - loss: 0.0722 - accuracy: 0.9859 - val_loss: 0.0266 - val_accuracy: 1.0000\n",
      "Epoch 24/50\n",
      "3/3 [==============================] - 0s 17ms/step - loss: 0.0478 - accuracy: 1.0000 - val_loss: 0.0231 - val_accuracy: 1.0000\n",
      "Epoch 25/50\n",
      "3/3 [==============================] - 0s 19ms/step - loss: 0.0662 - accuracy: 0.9859 - val_loss: 0.0217 - val_accuracy: 1.0000\n",
      "Epoch 26/50\n",
      "3/3 [==============================] - 0s 19ms/step - loss: 0.0578 - accuracy: 0.9859 - val_loss: 0.0181 - val_accuracy: 1.0000\n",
      "Epoch 27/50\n",
      "3/3 [==============================] - 0s 18ms/step - loss: 0.0921 - accuracy: 0.9718 - val_loss: 0.0161 - val_accuracy: 1.0000\n",
      "Epoch 28/50\n",
      "3/3 [==============================] - 0s 17ms/step - loss: 0.0775 - accuracy: 0.9789 - val_loss: 0.0152 - val_accuracy: 1.0000\n",
      "Epoch 29/50\n",
      "3/3 [==============================] - 0s 21ms/step - loss: 0.0773 - accuracy: 0.9789 - val_loss: 0.0138 - val_accuracy: 1.0000\n",
      "Epoch 30/50\n",
      "3/3 [==============================] - 0s 18ms/step - loss: 0.0805 - accuracy: 0.9648 - val_loss: 0.0137 - val_accuracy: 1.0000\n",
      "Epoch 31/50\n",
      "3/3 [==============================] - 0s 18ms/step - loss: 0.0591 - accuracy: 0.9789 - val_loss: 0.0132 - val_accuracy: 1.0000\n",
      "Epoch 32/50\n",
      "3/3 [==============================] - 0s 20ms/step - loss: 0.0606 - accuracy: 0.9930 - val_loss: 0.0108 - val_accuracy: 1.0000\n",
      "Epoch 33/50\n",
      "3/3 [==============================] - 0s 19ms/step - loss: 0.0429 - accuracy: 0.9789 - val_loss: 0.0108 - val_accuracy: 1.0000\n",
      "Epoch 34/50\n",
      "3/3 [==============================] - 0s 19ms/step - loss: 0.0381 - accuracy: 0.9930 - val_loss: 0.0093 - val_accuracy: 1.0000\n",
      "Epoch 35/50\n",
      "3/3 [==============================] - 0s 19ms/step - loss: 0.0615 - accuracy: 0.9859 - val_loss: 0.0081 - val_accuracy: 1.0000\n",
      "Epoch 36/50\n",
      "3/3 [==============================] - 0s 18ms/step - loss: 0.0410 - accuracy: 0.9859 - val_loss: 0.0075 - val_accuracy: 1.0000\n",
      "Epoch 37/50\n",
      "3/3 [==============================] - 0s 20ms/step - loss: 0.0430 - accuracy: 0.9930 - val_loss: 0.0073 - val_accuracy: 1.0000\n",
      "Epoch 38/50\n",
      "3/3 [==============================] - 0s 44ms/step - loss: 0.0203 - accuracy: 1.0000 - val_loss: 0.0074 - val_accuracy: 1.0000\n",
      "Epoch 39/50\n",
      "3/3 [==============================] - 0s 17ms/step - loss: 0.0613 - accuracy: 0.9718 - val_loss: 0.0054 - val_accuracy: 1.0000\n",
      "Epoch 40/50\n",
      "3/3 [==============================] - 0s 18ms/step - loss: 0.0197 - accuracy: 1.0000 - val_loss: 0.0053 - val_accuracy: 1.0000\n",
      "Epoch 41/50\n",
      "3/3 [==============================] - 0s 16ms/step - loss: 0.0283 - accuracy: 0.9930 - val_loss: 0.0049 - val_accuracy: 1.0000\n",
      "Epoch 42/50\n",
      "3/3 [==============================] - 0s 16ms/step - loss: 0.0330 - accuracy: 0.9930 - val_loss: 0.0037 - val_accuracy: 1.0000\n",
      "Epoch 43/50\n",
      "3/3 [==============================] - 0s 17ms/step - loss: 0.0336 - accuracy: 0.9930 - val_loss: 0.0034 - val_accuracy: 1.0000\n",
      "Epoch 44/50\n",
      "3/3 [==============================] - 0s 17ms/step - loss: 0.0432 - accuracy: 0.9859 - val_loss: 0.0034 - val_accuracy: 1.0000\n",
      "Epoch 45/50\n",
      "3/3 [==============================] - 0s 17ms/step - loss: 0.0135 - accuracy: 1.0000 - val_loss: 0.0038 - val_accuracy: 1.0000\n",
      "Epoch 46/50\n",
      "3/3 [==============================] - 0s 19ms/step - loss: 0.0392 - accuracy: 0.9789 - val_loss: 0.0042 - val_accuracy: 1.0000\n",
      "Epoch 47/50\n",
      "3/3 [==============================] - 0s 17ms/step - loss: 0.0341 - accuracy: 0.9859 - val_loss: 0.0039 - val_accuracy: 1.0000\n",
      "Epoch 48/50\n",
      "3/3 [==============================] - 0s 16ms/step - loss: 0.0430 - accuracy: 0.9789 - val_loss: 0.0032 - val_accuracy: 1.0000\n",
      "Epoch 49/50\n",
      "3/3 [==============================] - 0s 17ms/step - loss: 0.0221 - accuracy: 0.9930 - val_loss: 0.0028 - val_accuracy: 1.0000\n",
      "Epoch 50/50\n",
      "3/3 [==============================] - 0s 17ms/step - loss: 0.0192 - accuracy: 1.0000 - val_loss: 0.0024 - val_accuracy: 1.0000\n"
     ]
    }
   ],
   "source": [
    "def build_modified_model(input_shape, num_classes):\n",
    "    model = Sequential()\n",
    "    model.add(Dense(128, activation='relu', input_shape=(input_shape,)))\n",
    "    model.add(Dropout(0.5))\n",
    "    model.add(Dense(128, activation='relu'))\n",
    "    model.add(Dropout(0.5))\n",
    "    model.add(Dense(num_classes, activation='softmax'))\n",
    "\n",
    "    model.compile(optimizer=RMSprop(lr=0.001), \n",
    "                  loss='categorical_crossentropy', \n",
    "                  metrics=['accuracy'])\n",
    "    return model\n",
    "\n",
    "model = build_modified_model(X_train.shape[1], Y_train.shape[1])\n",
    "history = model.fit(X_train, Y_train, validation_data=(X_test, Y_test), epochs=50, batch_size=64)\n"
   ]
  },
  {
   "cell_type": "code",
   "execution_count": 15,
   "id": "b43ef579",
   "metadata": {},
   "outputs": [
    {
     "data": {
      "image/png": "[encoded data removed]",
      "text/plain": [
       "<Figure size 640x480 with 1 Axes>"
      ]
     },
     "metadata": {},
     "output_type": "display_data"
    }
   ],
   "source": [
    "# loss function for modified model: \n",
    "\n",
    "plt.plot(history.history['loss'])\n",
    "plt.plot(history.history['val_loss'])\n",
    "plt.title('Model loss for modified model')\n",
    "plt.ylabel('Loss')\n",
    "plt.xlabel('Epoch')\n",
    "plt.legend(['Train', 'Test'], loc='upper right')\n",
    "plt.show()"
   ]
  },
  {
   "attachments": {},
   "cell_type": "markdown",
   "id": "352e65ce",
   "metadata": {},
   "source": [
    "The chart shows how the loss function for the training and testing sets changes over successive training epochs. We can observe whether the model is learning (loss decreasing) and whether overfitting occurs (loss on the testing set starts to increase)."
   ]
  },
  {
   "attachments": {},
   "cell_type": "markdown",
   "id": "3c7388a6",
   "metadata": {},
   "source": [
    "Both models achieve 100% accuracy on the validation set. However, When comparing the results of models, the original one and modified, we can observe several differences:\n",
    "\n",
    "- Learning speed: The modified model achieves 100% accuracy on the validation set after only 1 epoch, while the original model requires 6 epochs. This may indicate that the additional Dropout layers and increased number of neurons helped the model understand the data dependencies faster.\n",
    "\n",
    "- Stability of results: The modified model appears to be more stable, maintaining 100% accuracy on the validation set for most epochs. The original model achieves 100% accuracy on the validation set, but then drops to 97.22% in the 10th epoch, only to return to 100% and maintain that level. This increased stability of the modified model may be due to the additional Dropout layers, which help prevent overfitting.\n",
    "\n",
    "- Convergence of loss function: The loss function for the modified model converges to 0 much faster than for the original model. After 50 epochs, the modified model reaches a loss function value of approximately 0.0024, while after 20 epochs, the original model has a loss function value of around 0.0335. This may indicate that the modified model is better optimized.\n",
    "\n",
    "In summary, based on the provided training logs, the modified model seems to perform better. However, to obtain a complete picture, it is also worth testing both models on a separate, independent test set. Additionally, it is always important to consider the potential risk of overfitting when achieving 100% accuracy."
   ]
  }
 ],
 "metadata": {
  "colab": {
   "provenance": []
  },
  "kernelspec": {
   "display_name": "Python 3 (ipykernel)",
   "language": "python",
   "name": "python3"
  },
  "language_info": {
   "codemirror_mode": {
    "name": "ipython",
    "version": 3
   },
   "file_extension": ".py",
   "mimetype": "text/x-python",
   "name": "python",
   "nbconvert_exporter": "python",
   "pygments_lexer": "ipython3",
   "version": "3.11.3"
  }
 },
 "nbformat": 4,
 "nbformat_minor": 5
}
