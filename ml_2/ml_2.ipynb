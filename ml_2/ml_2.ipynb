{
 "cells": [
  {
   "attachments": {},
   "cell_type": "markdown",
   "id": "222d8df1",
   "metadata": {},
   "source": [
    "# Wyłudzenia transakcji kartowych\n",
    "\n",
    "Na podstawie danych zawartych w zbiorze https://www.kaggle.com/mlg-ulb/creditcardfraud dotyczącym wyłudzeń transakcji kartowych, stwórz model SVM, który szacować będzie wystąpienie wyłudzenia.\n",
    "\n",
    "##### Uwaga:\n",
    "Zbiór cech jest wynikiem analizy głównych składowych (PCA). Na potrzeby zadania nie jest ważne z jakich danych powstały te cechy, uznajemy że podmiot dla kórego tworzymy model dostarcza nam dane w takie formie.\n",
    "\n",
    "##### W zadaniu muszą pojawić się co najmniej takie punkty jak:\n",
    "- Eksploracyjna analiza danych\n",
    "- Feature Engineering i przygotowanie zbiorów (warto wykorzystać undersampling lub oversamplig)\n",
    "- Trening modelu i ocena jego jakości\n",
    "- Komentarze/wnioski na poszczególnych etapach (przy obserwacjach i podejmowaniu decyzji)\n",
    "\n",
    "### Termin oddania: 26.05.2023 23:59"
   ]
  }
 ],
 "metadata": {
  "kernelspec": {
   "display_name": "Python 3 (ipykernel)",
   "language": "python",
   "name": "python3"
  },
  "language_info": {
   "codemirror_mode": {
    "name": "ipython",
    "version": 3
   },
   "file_extension": ".py",
   "mimetype": "text/x-python",
   "name": "python",
   "nbconvert_exporter": "python",
   "pygments_lexer": "ipython3",
   "version": "3.9.13"
  }
 },
 "nbformat": 4,
 "nbformat_minor": 5
}
