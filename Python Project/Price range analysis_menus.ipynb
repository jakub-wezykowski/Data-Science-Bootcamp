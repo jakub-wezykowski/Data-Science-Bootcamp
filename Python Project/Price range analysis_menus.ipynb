{
 "cells": [
  {
   "cell_type": "code",
   "execution_count": 34,
   "metadata": {},
   "outputs": [],
   "source": [
    "# Libraries used for analysis \n",
    "\n",
    "import pandas as pd\n",
    "import plotly.express as px\n",
    "import plotly.io as pio\n",
    "import plotly.graph_objs as go"
   ]
  },
  {
   "cell_type": "code",
   "execution_count": 35,
   "metadata": {},
   "outputs": [],
   "source": [
    "# Files upload \n",
    "\n",
    "rest = pd.read_csv(\"FOOD_CATEGORY_restaurants_output.csv\")\n",
    "menus = pd.read_csv(\"FOOD_CATEGORY_restaurant_menus_output.csv\")"
   ]
  },
  {
   "cell_type": "code",
   "execution_count": 36,
   "metadata": {},
   "outputs": [
    {
     "name": "stdout",
     "output_type": "stream",
     "text": [
      "550\n"
     ]
    }
   ],
   "source": [
    "# Number of restaurants in menus file\n",
    "unique_rest = menus[\"restaurant_id\"].nunique()\n",
    "\n",
    "print(unique_rest)"
   ]
  },
  {
   "cell_type": "code",
   "execution_count": 37,
   "metadata": {},
   "outputs": [
    {
     "name": "stdout",
     "output_type": "stream",
     "text": [
      "Sides                    2253\n",
      "Picked for you           2231\n",
      "Drinks                   1839\n",
      "Tacos                    1426\n",
      "Burritos                 1391\n",
      "                         ... \n",
      "Champaing Sparkling         1\n",
      "Premium Margarita Bar       1\n",
      "Chophouse                   1\n",
      "Community Kitchen.          1\n",
      "House Made Drinks           1\n",
      "Name: category, Length: 1570, dtype: int64\n"
     ]
    }
   ],
   "source": [
    "# Unique categories in menus\n",
    "unique_categories = menus[\"category\"].value_counts()\n",
    "\n",
    "print(unique_categories)"
   ]
  },
  {
   "cell_type": "code",
   "execution_count": 38,
   "metadata": {},
   "outputs": [
    {
     "name": "stdout",
     "output_type": "stream",
     "text": [
      "Guacamole                       203\n",
      "Quesadilla                      163\n",
      "Cheese Quesadilla               146\n",
      "Nachos                          122\n",
      "Burrito                         121\n",
      "Cinnamon Twists                 120\n",
      "Chips and Salsa                  98\n",
      "Chicken Quesadilla               96\n",
      "Black Beans                      95\n",
      "Chips and Nacho Cheese Sauce     95\n",
      "Name: name, dtype: int64\n"
     ]
    }
   ],
   "source": [
    "# Unique meals in menus\n",
    "\n",
    "unique_meal = menus[\"name\"].value_counts()\n",
    "\n",
    "print((unique_meal).head(10))"
   ]
  },
  {
   "cell_type": "code",
   "execution_count": 39,
   "metadata": {},
   "outputs": [],
   "source": [
    "# Remove the \"USD\" string and convert the 'price' column to a numeric data type\n",
    "menus['price'] = menus['price'].str.replace(' USD', '').astype(float)"
   ]
  },
  {
   "cell_type": "code",
   "execution_count": 40,
   "metadata": {},
   "outputs": [],
   "source": [
    "# Merge two data sets\n",
    "merged_data = rest.merge(menus, left_on=\"rm_restaurant_id\", right_on=\"restaurant_id\")"
   ]
  },
  {
   "cell_type": "code",
   "execution_count": 59,
   "metadata": {},
   "outputs": [],
   "source": [
    "# Change the name of cities in the state_city column\n",
    "def format_city_name(state_city):\n",
    "    state, city = state_city.split('/')\n",
    "    formatted_city = ' '.join(word.capitalize() for word in city.split(' '))\n",
    "    return f\"{state}/{formatted_city}\"\n",
    "\n",
    "merged_data['state_city'] = merged_data['state_city'].apply(format_city_name)\n"
   ]
  },
  {
   "cell_type": "code",
   "execution_count": 60,
   "metadata": {},
   "outputs": [
    {
     "name": "stdout",
     "output_type": "stream",
     "text": [
      "19962    286.00\n",
      "19961    214.50\n",
      "19960    143.00\n",
      "3869     140.00\n",
      "18217    130.00\n",
      "16632    126.50\n",
      "16637    121.00\n",
      "21161    120.00\n",
      "17130    111.92\n",
      "17136    111.92\n",
      "Name: price, dtype: float64\n"
     ]
    }
   ],
   "source": [
    "top_10_prices = merged_data[\"price\"].nlargest(10)\n",
    "\n",
    "print(top_10_prices)"
   ]
  },
  {
   "cell_type": "code",
   "execution_count": 61,
   "metadata": {},
   "outputs": [
    {
     "name": "stdout",
     "output_type": "stream",
     "text": [
      "name\n",
      "  Burrito.with carne asada    1\n",
      "  Taco Cochinita Pibil        1\n",
      " Add Sour Cream               1\n",
      " Amarillo.*                   1\n",
      " Arrachera                    1\n",
      "                             ..\n",
      "wario lopez                   1\n",
      "white Rice                    1\n",
      "whole Chicken (halal)         1\n",
      "yuca.                         1\n",
      "À la Carte                    1\n",
      "Name: state_city, Length: 15123, dtype: int64\n"
     ]
    }
   ],
   "source": [
    "meals_in_all_cities = merged_data.groupby('name')['state_city'].nunique()\n",
    "\n",
    "print(meals_in_all_cities)"
   ]
  },
  {
   "cell_type": "code",
   "execution_count": 62,
   "metadata": {},
   "outputs": [
    {
     "name": "stdout",
     "output_type": "stream",
     "text": [
      "       state_city                name  price_mean\n",
      "0   AL/Birmingham             Burrito        4.08\n",
      "1   AL/Birmingham         Carne Asada       16.27\n",
      "2   AL/Birmingham   Cheese Quesadilla        6.80\n",
      "3   AL/Birmingham  Chicken Quesadilla        6.27\n",
      "4   AL/Birmingham                Flan        5.72\n",
      "..            ...                 ...         ...\n",
      "75   WI/Milwaukee           Guacamole        5.12\n",
      "76   WI/Milwaukee              Nachos        9.11\n",
      "77   WI/Milwaukee          Quesadilla        8.93\n",
      "78   WI/Milwaukee          Taco Salad       11.66\n",
      "79   WI/Milwaukee               Tacos        3.04\n",
      "\n",
      "[80 rows x 3 columns]\n"
     ]
    }
   ],
   "source": [
    "# Find meals present in all cities\n",
    "unique_cities = merged_data['state_city'].nunique()\n",
    "meals_in_all_cities = merged_data.groupby('name')['state_city'].nunique()\n",
    "meals_in_all_cities = meals_in_all_cities[meals_in_all_cities == unique_cities].index.tolist()\n",
    "\n",
    "# Exclude Black Beans and Sour Cream from the list\n",
    "excluded_meals = ['Black Beans', 'Sour Cream', 'Rice', 'Bottled Water', 'Beans', 'Chips', 'Horchata']\n",
    "meals_in_all_cities = [meal for meal in meals_in_all_cities if meal not in excluded_meals]\n",
    "\n",
    "# Filter data only for meals in all cities\n",
    "meals_all_cities = merged_data[merged_data['name'].isin(meals_in_all_cities)]\n",
    "\n",
    "# Find the 10 most popular meals from the menus which are present in all cities\n",
    "popular_meals = meals_all_cities['name'].value_counts().nlargest(10).index.tolist()\n",
    "\n",
    "# Filter data only for the most popular meals\n",
    "most_popular_meals = merged_data[merged_data['name'].isin(popular_meals)]\n",
    "\n",
    "# Check the avg prices for those dishes in each city\n",
    "most_popular_meals_prices = most_popular_meals.groupby(['state_city', 'name'])['price'].mean().reset_index()\n",
    "\n",
    "# Round the mean price to 2 decimal places\n",
    "most_popular_meals_prices['price_mean'] = most_popular_meals_prices['price'].round(2)\n",
    "most_popular_meals_prices.drop(columns='price', inplace=True)\n",
    "\n",
    "# Results and comments\n",
    "print(most_popular_meals_prices)\n"
   ]
  },
  {
   "cell_type": "code",
   "execution_count": 63,
   "metadata": {},
   "outputs": [
    {
     "name": "stdout",
     "output_type": "stream",
     "text": [
      "Number of unique meals in most_popular_meals_prices: 10\n"
     ]
    }
   ],
   "source": [
    "# Check number of unique names of the meals in the most_popular_meals_prices data frame\n",
    "unique_meal_names = most_popular_meals_prices['name'].unique()\n",
    "num_unique_meals = len(unique_meal_names)\n",
    "print(f\"Number of unique meals in most_popular_meals_prices: {num_unique_meals}\")\n"
   ]
  },
  {
   "cell_type": "code",
   "execution_count": 64,
   "metadata": {},
   "outputs": [
    {
     "name": "stdout",
     "output_type": "stream",
     "text": [
      "In AL/Birmingham, 10 meals are present. Missing meals: set()\n",
      "In DC/Washington Dc, 10 meals are present. Missing meals: set()\n",
      "In OR/Portland, 10 meals are present. Missing meals: set()\n",
      "In TX/Austin, 10 meals are present. Missing meals: set()\n",
      "In UT/Salt Lake City, 10 meals are present. Missing meals: set()\n",
      "In VA/Arlington, 10 meals are present. Missing meals: set()\n",
      "In WA/Spokane, 10 meals are present. Missing meals: set()\n",
      "In WI/Milwaukee, 10 meals are present. Missing meals: set()\n"
     ]
    }
   ],
   "source": [
    "# Check if we have 10 meals for every city\n",
    "all_meals = set(most_popular_meals['name'].unique())\n",
    "for state_city, city_data in most_popular_meals_prices.groupby(\"state_city\"):\n",
    "    city_meals = set(city_data['name'].unique())\n",
    "    missing_meals = all_meals - city_meals\n",
    "    print(f\"In {state_city}, {len(city_meals)} meals are present. Missing meals: {missing_meals}\")"
   ]
  },
  {
   "cell_type": "code",
   "execution_count": 65,
   "metadata": {},
   "outputs": [
    {
     "data": {
      "application/vnd.plotly.v1+json": {
       "config": {
        "plotlyServerURL": "https://plot.ly"
       },
       "data": [
        {
         "alignmentgroup": "True",
         "hovertemplate": "name=Burrito<br>City=%{x}<br>Average Price=%{text}<extra></extra>",
         "legendgroup": "Burrito",
         "marker": {
          "color": "#636efa",
          "pattern": {
           "shape": ""
          }
         },
         "name": "Burrito",
         "offsetgroup": "Burrito",
         "orientation": "v",
         "showlegend": true,
         "text": [
          4.08,
          11.85,
          9.19,
          7.66,
          9.9,
          11.52,
          11.1,
          9.69
         ],
         "textposition": "inside",
         "texttemplate": "%{text:.2f}",
         "type": "bar",
         "x": [
          "AL/Birmingham",
          "DC/Washington Dc",
          "OR/Portland",
          "TX/Austin",
          "UT/Salt Lake City",
          "VA/Arlington",
          "WA/Spokane",
          "WI/Milwaukee"
         ],
         "xaxis": "x",
         "y": [
          4.08,
          11.85,
          9.19,
          7.66,
          9.9,
          11.52,
          11.1,
          9.69
         ],
         "yaxis": "y"
        },
        {
         "alignmentgroup": "True",
         "hovertemplate": "name=Carne Asada<br>City=%{x}<br>Average Price=%{text}<extra></extra>",
         "legendgroup": "Carne Asada",
         "marker": {
          "color": "#EF553B",
          "pattern": {
           "shape": ""
          }
         },
         "name": "Carne Asada",
         "offsetgroup": "Carne Asada",
         "orientation": "v",
         "showlegend": true,
         "text": [
          16.27,
          17.82,
          14.27,
          11.9,
          14.66,
          21.91,
          19.99,
          17.65
         ],
         "textposition": "inside",
         "texttemplate": "%{text:.2f}",
         "type": "bar",
         "x": [
          "AL/Birmingham",
          "DC/Washington Dc",
          "OR/Portland",
          "TX/Austin",
          "UT/Salt Lake City",
          "VA/Arlington",
          "WA/Spokane",
          "WI/Milwaukee"
         ],
         "xaxis": "x",
         "y": [
          16.27,
          17.82,
          14.27,
          11.9,
          14.66,
          21.91,
          19.99,
          17.65
         ],
         "yaxis": "y"
        },
        {
         "alignmentgroup": "True",
         "hovertemplate": "name=Cheese Quesadilla<br>City=%{x}<br>Average Price=%{text}<extra></extra>",
         "legendgroup": "Cheese Quesadilla",
         "marker": {
          "color": "#00cc96",
          "pattern": {
           "shape": ""
          }
         },
         "name": "Cheese Quesadilla",
         "offsetgroup": "Cheese Quesadilla",
         "orientation": "v",
         "showlegend": true,
         "text": [
          6.8,
          9.24,
          7.13,
          3.92,
          5.79,
          5.23,
          5.29,
          5.6
         ],
         "textposition": "inside",
         "texttemplate": "%{text:.2f}",
         "type": "bar",
         "x": [
          "AL/Birmingham",
          "DC/Washington Dc",
          "OR/Portland",
          "TX/Austin",
          "UT/Salt Lake City",
          "VA/Arlington",
          "WA/Spokane",
          "WI/Milwaukee"
         ],
         "xaxis": "x",
         "y": [
          6.8,
          9.24,
          7.13,
          3.92,
          5.79,
          5.23,
          5.29,
          5.6
         ],
         "yaxis": "y"
        },
        {
         "alignmentgroup": "True",
         "hovertemplate": "name=Chicken Quesadilla<br>City=%{x}<br>Average Price=%{text}<extra></extra>",
         "legendgroup": "Chicken Quesadilla",
         "marker": {
          "color": "#ab63fa",
          "pattern": {
           "shape": ""
          }
         },
         "name": "Chicken Quesadilla",
         "offsetgroup": "Chicken Quesadilla",
         "orientation": "v",
         "showlegend": true,
         "text": [
          6.27,
          12,
          9.4,
          8.2,
          6.99,
          8.94,
          6.53,
          6.18
         ],
         "textposition": "inside",
         "texttemplate": "%{text:.2f}",
         "type": "bar",
         "x": [
          "AL/Birmingham",
          "DC/Washington Dc",
          "OR/Portland",
          "TX/Austin",
          "UT/Salt Lake City",
          "VA/Arlington",
          "WA/Spokane",
          "WI/Milwaukee"
         ],
         "xaxis": "x",
         "y": [
          6.27,
          12,
          9.4,
          8.2,
          6.99,
          8.94,
          6.53,
          6.18
         ],
         "yaxis": "y"
        },
        {
         "alignmentgroup": "True",
         "hovertemplate": "name=Flan<br>City=%{x}<br>Average Price=%{text}<extra></extra>",
         "legendgroup": "Flan",
         "marker": {
          "color": "#FFA15A",
          "pattern": {
           "shape": ""
          }
         },
         "name": "Flan",
         "offsetgroup": "Flan",
         "orientation": "v",
         "showlegend": true,
         "text": [
          5.72,
          6.45,
          4.82,
          5.39,
          5.95,
          5.64,
          3.45,
          9.95
         ],
         "textposition": "inside",
         "texttemplate": "%{text:.2f}",
         "type": "bar",
         "x": [
          "AL/Birmingham",
          "DC/Washington Dc",
          "OR/Portland",
          "TX/Austin",
          "UT/Salt Lake City",
          "VA/Arlington",
          "WA/Spokane",
          "WI/Milwaukee"
         ],
         "xaxis": "x",
         "y": [
          5.72,
          6.45,
          4.82,
          5.39,
          5.95,
          5.64,
          3.45,
          9.95
         ],
         "yaxis": "y"
        },
        {
         "alignmentgroup": "True",
         "hovertemplate": "name=Guacamole<br>City=%{x}<br>Average Price=%{text}<extra></extra>",
         "legendgroup": "Guacamole",
         "marker": {
          "color": "#19d3f3",
          "pattern": {
           "shape": ""
          }
         },
         "name": "Guacamole",
         "offsetgroup": "Guacamole",
         "orientation": "v",
         "showlegend": true,
         "text": [
          1.34,
          8.84,
          4.42,
          5.85,
          5.24,
          6.09,
          3.66,
          5.12
         ],
         "textposition": "inside",
         "texttemplate": "%{text:.2f}",
         "type": "bar",
         "x": [
          "AL/Birmingham",
          "DC/Washington Dc",
          "OR/Portland",
          "TX/Austin",
          "UT/Salt Lake City",
          "VA/Arlington",
          "WA/Spokane",
          "WI/Milwaukee"
         ],
         "xaxis": "x",
         "y": [
          1.34,
          8.84,
          4.42,
          5.85,
          5.24,
          6.09,
          3.66,
          5.12
         ],
         "yaxis": "y"
        },
        {
         "alignmentgroup": "True",
         "hovertemplate": "name=Nachos<br>City=%{x}<br>Average Price=%{text}<extra></extra>",
         "legendgroup": "Nachos",
         "marker": {
          "color": "#FF6692",
          "pattern": {
           "shape": ""
          }
         },
         "name": "Nachos",
         "offsetgroup": "Nachos",
         "orientation": "v",
         "showlegend": true,
         "text": [
          9.71,
          10.38,
          10.51,
          8.53,
          8.82,
          10.26,
          5.12,
          9.11
         ],
         "textposition": "inside",
         "texttemplate": "%{text:.2f}",
         "type": "bar",
         "x": [
          "AL/Birmingham",
          "DC/Washington Dc",
          "OR/Portland",
          "TX/Austin",
          "UT/Salt Lake City",
          "VA/Arlington",
          "WA/Spokane",
          "WI/Milwaukee"
         ],
         "xaxis": "x",
         "y": [
          9.71,
          10.38,
          10.51,
          8.53,
          8.82,
          10.26,
          5.12,
          9.11
         ],
         "yaxis": "y"
        },
        {
         "alignmentgroup": "True",
         "hovertemplate": "name=Quesadilla<br>City=%{x}<br>Average Price=%{text}<extra></extra>",
         "legendgroup": "Quesadilla",
         "marker": {
          "color": "#B6E880",
          "pattern": {
           "shape": ""
          }
         },
         "name": "Quesadilla",
         "offsetgroup": "Quesadilla",
         "orientation": "v",
         "showlegend": true,
         "text": [
          3.83,
          11.47,
          9.4,
          7.09,
          9.54,
          11.1,
          11.29,
          8.93
         ],
         "textposition": "inside",
         "texttemplate": "%{text:.2f}",
         "type": "bar",
         "x": [
          "AL/Birmingham",
          "DC/Washington Dc",
          "OR/Portland",
          "TX/Austin",
          "UT/Salt Lake City",
          "VA/Arlington",
          "WA/Spokane",
          "WI/Milwaukee"
         ],
         "xaxis": "x",
         "y": [
          3.83,
          11.47,
          9.4,
          7.09,
          9.54,
          11.1,
          11.29,
          8.93
         ],
         "yaxis": "y"
        },
        {
         "alignmentgroup": "True",
         "hovertemplate": "name=Taco Salad<br>City=%{x}<br>Average Price=%{text}<extra></extra>",
         "legendgroup": "Taco Salad",
         "marker": {
          "color": "#FF97FF",
          "pattern": {
           "shape": ""
          }
         },
         "name": "Taco Salad",
         "offsetgroup": "Taco Salad",
         "orientation": "v",
         "showlegend": true,
         "text": [
          9.97,
          12.24,
          10.22,
          11.39,
          9.58,
          12.33,
          10.18,
          11.66
         ],
         "textposition": "inside",
         "texttemplate": "%{text:.2f}",
         "type": "bar",
         "x": [
          "AL/Birmingham",
          "DC/Washington Dc",
          "OR/Portland",
          "TX/Austin",
          "UT/Salt Lake City",
          "VA/Arlington",
          "WA/Spokane",
          "WI/Milwaukee"
         ],
         "xaxis": "x",
         "y": [
          9.97,
          12.24,
          10.22,
          11.39,
          9.58,
          12.33,
          10.18,
          11.66
         ],
         "yaxis": "y"
        },
        {
         "alignmentgroup": "True",
         "hovertemplate": "name=Tacos<br>City=%{x}<br>Average Price=%{text}<extra></extra>",
         "legendgroup": "Tacos",
         "marker": {
          "color": "#FECB52",
          "pattern": {
           "shape": ""
          }
         },
         "name": "Tacos",
         "offsetgroup": "Tacos",
         "orientation": "v",
         "showlegend": true,
         "text": [
          3.38,
          4.5,
          3.36,
          5.6,
          2.74,
          7.81,
          1.85,
          3.04
         ],
         "textposition": "inside",
         "texttemplate": "%{text:.2f}",
         "type": "bar",
         "x": [
          "AL/Birmingham",
          "DC/Washington Dc",
          "OR/Portland",
          "TX/Austin",
          "UT/Salt Lake City",
          "VA/Arlington",
          "WA/Spokane",
          "WI/Milwaukee"
         ],
         "xaxis": "x",
         "y": [
          3.38,
          4.5,
          3.36,
          5.6,
          2.74,
          7.81,
          1.85,
          3.04
         ],
         "yaxis": "y"
        }
       ],
       "layout": {
        "barmode": "group",
        "legend": {
         "title": {
          "text": "name"
         },
         "tracegroupgap": 0
        },
        "template": {
         "data": {
          "bar": [
           {
            "error_x": {
             "color": "#2a3f5f"
            },
            "error_y": {
             "color": "#2a3f5f"
            },
            "marker": {
             "line": {
              "color": "#E5ECF6",
              "width": 0.5
             },
             "pattern": {
              "fillmode": "overlay",
              "size": 10,
              "solidity": 0.2
             }
            },
            "type": "bar"
           }
          ],
          "barpolar": [
           {
            "marker": {
             "line": {
              "color": "#E5ECF6",
              "width": 0.5
             },
             "pattern": {
              "fillmode": "overlay",
              "size": 10,
              "solidity": 0.2
             }
            },
            "type": "barpolar"
           }
          ],
          "carpet": [
           {
            "aaxis": {
             "endlinecolor": "#2a3f5f",
             "gridcolor": "white",
             "linecolor": "white",
             "minorgridcolor": "white",
             "startlinecolor": "#2a3f5f"
            },
            "baxis": {
             "endlinecolor": "#2a3f5f",
             "gridcolor": "white",
             "linecolor": "white",
             "minorgridcolor": "white",
             "startlinecolor": "#2a3f5f"
            },
            "type": "carpet"
           }
          ],
          "choropleth": [
           {
            "colorbar": {
             "outlinewidth": 0,
             "ticks": ""
            },
            "type": "choropleth"
           }
          ],
          "contour": [
           {
            "colorbar": {
             "outlinewidth": 0,
             "ticks": ""
            },
            "colorscale": [
             [
              0,
              "#0d0887"
             ],
             [
              0.1111111111111111,
              "#46039f"
             ],
             [
              0.2222222222222222,
              "#7201a8"
             ],
             [
              0.3333333333333333,
              "#9c179e"
             ],
             [
              0.4444444444444444,
              "#bd3786"
             ],
             [
              0.5555555555555556,
              "#d8576b"
             ],
             [
              0.6666666666666666,
              "#ed7953"
             ],
             [
              0.7777777777777778,
              "#fb9f3a"
             ],
             [
              0.8888888888888888,
              "#fdca26"
             ],
             [
              1,
              "#f0f921"
             ]
            ],
            "type": "contour"
           }
          ],
          "contourcarpet": [
           {
            "colorbar": {
             "outlinewidth": 0,
             "ticks": ""
            },
            "type": "contourcarpet"
           }
          ],
          "heatmap": [
           {
            "colorbar": {
             "outlinewidth": 0,
             "ticks": ""
            },
            "colorscale": [
             [
              0,
              "#0d0887"
             ],
             [
              0.1111111111111111,
              "#46039f"
             ],
             [
              0.2222222222222222,
              "#7201a8"
             ],
             [
              0.3333333333333333,
              "#9c179e"
             ],
             [
              0.4444444444444444,
              "#bd3786"
             ],
             [
              0.5555555555555556,
              "#d8576b"
             ],
             [
              0.6666666666666666,
              "#ed7953"
             ],
             [
              0.7777777777777778,
              "#fb9f3a"
             ],
             [
              0.8888888888888888,
              "#fdca26"
             ],
             [
              1,
              "#f0f921"
             ]
            ],
            "type": "heatmap"
           }
          ],
          "heatmapgl": [
           {
            "colorbar": {
             "outlinewidth": 0,
             "ticks": ""
            },
            "colorscale": [
             [
              0,
              "#0d0887"
             ],
             [
              0.1111111111111111,
              "#46039f"
             ],
             [
              0.2222222222222222,
              "#7201a8"
             ],
             [
              0.3333333333333333,
              "#9c179e"
             ],
             [
              0.4444444444444444,
              "#bd3786"
             ],
             [
              0.5555555555555556,
              "#d8576b"
             ],
             [
              0.6666666666666666,
              "#ed7953"
             ],
             [
              0.7777777777777778,
              "#fb9f3a"
             ],
             [
              0.8888888888888888,
              "#fdca26"
             ],
             [
              1,
              "#f0f921"
             ]
            ],
            "type": "heatmapgl"
           }
          ],
          "histogram": [
           {
            "marker": {
             "pattern": {
              "fillmode": "overlay",
              "size": 10,
              "solidity": 0.2
             }
            },
            "type": "histogram"
           }
          ],
          "histogram2d": [
           {
            "colorbar": {
             "outlinewidth": 0,
             "ticks": ""
            },
            "colorscale": [
             [
              0,
              "#0d0887"
             ],
             [
              0.1111111111111111,
              "#46039f"
             ],
             [
              0.2222222222222222,
              "#7201a8"
             ],
             [
              0.3333333333333333,
              "#9c179e"
             ],
             [
              0.4444444444444444,
              "#bd3786"
             ],
             [
              0.5555555555555556,
              "#d8576b"
             ],
             [
              0.6666666666666666,
              "#ed7953"
             ],
             [
              0.7777777777777778,
              "#fb9f3a"
             ],
             [
              0.8888888888888888,
              "#fdca26"
             ],
             [
              1,
              "#f0f921"
             ]
            ],
            "type": "histogram2d"
           }
          ],
          "histogram2dcontour": [
           {
            "colorbar": {
             "outlinewidth": 0,
             "ticks": ""
            },
            "colorscale": [
             [
              0,
              "#0d0887"
             ],
             [
              0.1111111111111111,
              "#46039f"
             ],
             [
              0.2222222222222222,
              "#7201a8"
             ],
             [
              0.3333333333333333,
              "#9c179e"
             ],
             [
              0.4444444444444444,
              "#bd3786"
             ],
             [
              0.5555555555555556,
              "#d8576b"
             ],
             [
              0.6666666666666666,
              "#ed7953"
             ],
             [
              0.7777777777777778,
              "#fb9f3a"
             ],
             [
              0.8888888888888888,
              "#fdca26"
             ],
             [
              1,
              "#f0f921"
             ]
            ],
            "type": "histogram2dcontour"
           }
          ],
          "mesh3d": [
           {
            "colorbar": {
             "outlinewidth": 0,
             "ticks": ""
            },
            "type": "mesh3d"
           }
          ],
          "parcoords": [
           {
            "line": {
             "colorbar": {
              "outlinewidth": 0,
              "ticks": ""
             }
            },
            "type": "parcoords"
           }
          ],
          "pie": [
           {
            "automargin": true,
            "type": "pie"
           }
          ],
          "scatter": [
           {
            "fillpattern": {
             "fillmode": "overlay",
             "size": 10,
             "solidity": 0.2
            },
            "type": "scatter"
           }
          ],
          "scatter3d": [
           {
            "line": {
             "colorbar": {
              "outlinewidth": 0,
              "ticks": ""
             }
            },
            "marker": {
             "colorbar": {
              "outlinewidth": 0,
              "ticks": ""
             }
            },
            "type": "scatter3d"
           }
          ],
          "scattercarpet": [
           {
            "marker": {
             "colorbar": {
              "outlinewidth": 0,
              "ticks": ""
             }
            },
            "type": "scattercarpet"
           }
          ],
          "scattergeo": [
           {
            "marker": {
             "colorbar": {
              "outlinewidth": 0,
              "ticks": ""
             }
            },
            "type": "scattergeo"
           }
          ],
          "scattergl": [
           {
            "marker": {
             "colorbar": {
              "outlinewidth": 0,
              "ticks": ""
             }
            },
            "type": "scattergl"
           }
          ],
          "scattermapbox": [
           {
            "marker": {
             "colorbar": {
              "outlinewidth": 0,
              "ticks": ""
             }
            },
            "type": "scattermapbox"
           }
          ],
          "scatterpolar": [
           {
            "marker": {
             "colorbar": {
              "outlinewidth": 0,
              "ticks": ""
             }
            },
            "type": "scatterpolar"
           }
          ],
          "scatterpolargl": [
           {
            "marker": {
             "colorbar": {
              "outlinewidth": 0,
              "ticks": ""
             }
            },
            "type": "scatterpolargl"
           }
          ],
          "scatterternary": [
           {
            "marker": {
             "colorbar": {
              "outlinewidth": 0,
              "ticks": ""
             }
            },
            "type": "scatterternary"
           }
          ],
          "surface": [
           {
            "colorbar": {
             "outlinewidth": 0,
             "ticks": ""
            },
            "colorscale": [
             [
              0,
              "#0d0887"
             ],
             [
              0.1111111111111111,
              "#46039f"
             ],
             [
              0.2222222222222222,
              "#7201a8"
             ],
             [
              0.3333333333333333,
              "#9c179e"
             ],
             [
              0.4444444444444444,
              "#bd3786"
             ],
             [
              0.5555555555555556,
              "#d8576b"
             ],
             [
              0.6666666666666666,
              "#ed7953"
             ],
             [
              0.7777777777777778,
              "#fb9f3a"
             ],
             [
              0.8888888888888888,
              "#fdca26"
             ],
             [
              1,
              "#f0f921"
             ]
            ],
            "type": "surface"
           }
          ],
          "table": [
           {
            "cells": {
             "fill": {
              "color": "#EBF0F8"
             },
             "line": {
              "color": "white"
             }
            },
            "header": {
             "fill": {
              "color": "#C8D4E3"
             },
             "line": {
              "color": "white"
             }
            },
            "type": "table"
           }
          ]
         },
         "layout": {
          "annotationdefaults": {
           "arrowcolor": "#2a3f5f",
           "arrowhead": 0,
           "arrowwidth": 1
          },
          "autotypenumbers": "strict",
          "coloraxis": {
           "colorbar": {
            "outlinewidth": 0,
            "ticks": ""
           }
          },
          "colorscale": {
           "diverging": [
            [
             0,
             "#8e0152"
            ],
            [
             0.1,
             "#c51b7d"
            ],
            [
             0.2,
             "#de77ae"
            ],
            [
             0.3,
             "#f1b6da"
            ],
            [
             0.4,
             "#fde0ef"
            ],
            [
             0.5,
             "#f7f7f7"
            ],
            [
             0.6,
             "#e6f5d0"
            ],
            [
             0.7,
             "#b8e186"
            ],
            [
             0.8,
             "#7fbc41"
            ],
            [
             0.9,
             "#4d9221"
            ],
            [
             1,
             "#276419"
            ]
           ],
           "sequential": [
            [
             0,
             "#0d0887"
            ],
            [
             0.1111111111111111,
             "#46039f"
            ],
            [
             0.2222222222222222,
             "#7201a8"
            ],
            [
             0.3333333333333333,
             "#9c179e"
            ],
            [
             0.4444444444444444,
             "#bd3786"
            ],
            [
             0.5555555555555556,
             "#d8576b"
            ],
            [
             0.6666666666666666,
             "#ed7953"
            ],
            [
             0.7777777777777778,
             "#fb9f3a"
            ],
            [
             0.8888888888888888,
             "#fdca26"
            ],
            [
             1,
             "#f0f921"
            ]
           ],
           "sequentialminus": [
            [
             0,
             "#0d0887"
            ],
            [
             0.1111111111111111,
             "#46039f"
            ],
            [
             0.2222222222222222,
             "#7201a8"
            ],
            [
             0.3333333333333333,
             "#9c179e"
            ],
            [
             0.4444444444444444,
             "#bd3786"
            ],
            [
             0.5555555555555556,
             "#d8576b"
            ],
            [
             0.6666666666666666,
             "#ed7953"
            ],
            [
             0.7777777777777778,
             "#fb9f3a"
            ],
            [
             0.8888888888888888,
             "#fdca26"
            ],
            [
             1,
             "#f0f921"
            ]
           ]
          },
          "colorway": [
           "#636efa",
           "#EF553B",
           "#00cc96",
           "#ab63fa",
           "#FFA15A",
           "#19d3f3",
           "#FF6692",
           "#B6E880",
           "#FF97FF",
           "#FECB52"
          ],
          "font": {
           "color": "#2a3f5f"
          },
          "geo": {
           "bgcolor": "white",
           "lakecolor": "white",
           "landcolor": "#E5ECF6",
           "showlakes": true,
           "showland": true,
           "subunitcolor": "white"
          },
          "hoverlabel": {
           "align": "left"
          },
          "hovermode": "closest",
          "mapbox": {
           "style": "light"
          },
          "paper_bgcolor": "white",
          "plot_bgcolor": "#E5ECF6",
          "polar": {
           "angularaxis": {
            "gridcolor": "white",
            "linecolor": "white",
            "ticks": ""
           },
           "bgcolor": "#E5ECF6",
           "radialaxis": {
            "gridcolor": "white",
            "linecolor": "white",
            "ticks": ""
           }
          },
          "scene": {
           "xaxis": {
            "backgroundcolor": "#E5ECF6",
            "gridcolor": "white",
            "gridwidth": 2,
            "linecolor": "white",
            "showbackground": true,
            "ticks": "",
            "zerolinecolor": "white"
           },
           "yaxis": {
            "backgroundcolor": "#E5ECF6",
            "gridcolor": "white",
            "gridwidth": 2,
            "linecolor": "white",
            "showbackground": true,
            "ticks": "",
            "zerolinecolor": "white"
           },
           "zaxis": {
            "backgroundcolor": "#E5ECF6",
            "gridcolor": "white",
            "gridwidth": 2,
            "linecolor": "white",
            "showbackground": true,
            "ticks": "",
            "zerolinecolor": "white"
           }
          },
          "shapedefaults": {
           "line": {
            "color": "#2a3f5f"
           }
          },
          "ternary": {
           "aaxis": {
            "gridcolor": "white",
            "linecolor": "white",
            "ticks": ""
           },
           "baxis": {
            "gridcolor": "white",
            "linecolor": "white",
            "ticks": ""
           },
           "bgcolor": "#E5ECF6",
           "caxis": {
            "gridcolor": "white",
            "linecolor": "white",
            "ticks": ""
           }
          },
          "title": {
           "x": 0.05
          },
          "xaxis": {
           "automargin": true,
           "gridcolor": "white",
           "linecolor": "white",
           "ticks": "",
           "title": {
            "standoff": 15
           },
           "zerolinecolor": "white",
           "zerolinewidth": 2
          },
          "yaxis": {
           "automargin": true,
           "gridcolor": "white",
           "linecolor": "white",
           "ticks": "",
           "title": {
            "standoff": 15
           },
           "zerolinecolor": "white",
           "zerolinewidth": 2
          }
         }
        },
        "title": {
         "text": "Average Prices of 10 Most Popular Menu Selections"
        },
        "xaxis": {
         "anchor": "y",
         "categoryarray": [
          "AL/Birmingham",
          "DC/Washington Dc",
          "OR/Portland",
          "TX/Austin",
          "UT/Salt Lake City",
          "VA/Arlington",
          "WA/Spokane",
          "WI/Milwaukee"
         ],
         "categoryorder": "array",
         "domain": [
          0,
          1
         ],
         "title": {
          "text": "City"
         }
        },
        "yaxis": {
         "anchor": "x",
         "domain": [
          0,
          1
         ],
         "tickprefix": "$",
         "title": {
          "text": "Average Price"
         }
        }
       }
      }
     },
     "metadata": {},
     "output_type": "display_data"
    }
   ],
   "source": [
    "# Create an interactive bar plot using Plotly\n",
    "fig = px.bar(most_popular_meals_prices, x='state_city', y='price_mean', color='name', barmode='group', text='price_mean',\n",
    "             title='Average Prices of 10 Most Popular Menu Selections', labels={'state_city': 'City', 'price_mean': 'Average Price'})\n",
    "\n",
    "# Update the layout for better readability\n",
    "fig.update_layout(xaxis={'categoryorder': 'array', 'categoryarray': most_popular_meals_prices['state_city'].unique()})\n",
    "fig.update_traces(texttemplate='%{text:.2f}', textposition='inside')\n",
    "fig.update_yaxes(title='Average Price', tickprefix='$')\n",
    "\n",
    "# Show the plot\n",
    "fig.show()"
   ]
  },
  {
   "cell_type": "code",
   "execution_count": 66,
   "metadata": {},
   "outputs": [],
   "source": [
    "# Save the interactive plot as an HTML file\n",
    "pio.write_html(fig, file=\"most_popular_meals_prices.html\", auto_open=True)"
   ]
  },
  {
   "cell_type": "code",
   "execution_count": 67,
   "metadata": {},
   "outputs": [
    {
     "data": {
      "image/png": "[encoded data removed]",
      "text/plain": [
       "<Figure size 1000x800 with 2 Axes>"
      ]
     },
     "metadata": {},
     "output_type": "display_data"
    }
   ],
   "source": [
    "# Pivot the data frame to create a new data frame with cities as columns and meals as rows\n",
    "meal_prices_pivot = most_popular_meals_prices.pivot_table(index='name', columns='state_city', values='price_mean')\n",
    "\n",
    "# Create a heatmap using seaborn\n",
    "plt.figure(figsize=(10, 8))\n",
    "sns.heatmap(meal_prices_pivot, cmap='YlGnBu', annot=True, fmt='.2f')\n",
    "plt.xlabel('City')\n",
    "plt.ylabel('Meal')\n",
    "plt.show()\n"
   ]
  }
 ],
 "metadata": {
  "kernelspec": {
   "display_name": "base",
   "language": "python",
   "name": "python3"
  },
  "language_info": {
   "codemirror_mode": {
    "name": "ipython",
    "version": 3
   },
   "file_extension": ".py",
   "mimetype": "text/x-python",
   "name": "python",
   "nbconvert_exporter": "python",
   "pygments_lexer": "ipython3",
   "version": "3.9.13"
  },
  "orig_nbformat": 4,
  "vscode": {
   "interpreter": {
    "hash": "0d23164dccc46cd58776d6c42b6e08520d8e560835c24fb22e35df0b0152d5ce"
   }
  }
 },
 "nbformat": 4,
 "nbformat_minor": 2
}
